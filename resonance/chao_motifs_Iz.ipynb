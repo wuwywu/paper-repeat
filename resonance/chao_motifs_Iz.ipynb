{
 "cells": [
  {
   "cell_type": "markdown",
   "id": "5a6795be",
   "metadata": {},
   "source": [
    "#### 基元中的混沌共振\n",
    "ref: G. Wang, et al. Chaotic resonance in izhikevich neural network motifs under electromagnetic induction, Nonlinear Dyn. 107 (2022) 3945–3962. \n",
    "\n",
    "model: izhikevich model"
   ]
  },
  {
   "cell_type": "code",
   "execution_count": 1,
   "id": "9eff453d",
   "metadata": {},
   "outputs": [],
   "source": [
    "import numpy as np\n",
    "import matplotlib.pyplot as plt\n",
    "from scipy.sparse import coo_matrix\n",
    "import random\n",
    "from joblib import Parallel, delayed\n",
    "from tqdm import tqdm\n",
    "from numba import njit, prange"
   ]
  },
  {
   "cell_type": "code",
   "execution_count": 2,
   "id": "cd855649",
   "metadata": {},
   "outputs": [],
   "source": [
    "# 固定种子\n",
    "seed = 0\n",
    "np.random.seed(seed)\n",
    "random.seed(seed)"
   ]
  },
  {
   "cell_type": "markdown",
   "id": "fb56668f",
   "metadata": {},
   "source": [
    "#### 模型"
   ]
  },
  {
   "cell_type": "code",
   "execution_count": 3,
   "id": "181cf76d",
   "metadata": {},
   "outputs": [],
   "source": [
    "@njit\n",
    "def Euler(fun, x0, t, dt, *args):\n",
    "    \"\"\"\n",
    "    使用 euler 方法计算一个时间步后系统的状态。\n",
    "    args:\n",
    "        fun: 微分方程\n",
    "        x0: 上一个时间单位的状态变量\n",
    "        t: 运行时间\n",
    "        dt: 时间步长\n",
    "    :return: \n",
    "        x0 (numpy.ndarray): 下一个时间单位的状态变量\n",
    "    \"\"\"\n",
    "    # 计算下一个时间单位的状态变量\n",
    "    x0 += dt * fun(x0, t, *args)\n",
    "    return x0\n",
    "\n",
    "@njit\n",
    "def Iz_model(vars, t, I, a, b, k1, k2, k3, alpha, beta):\n",
    "    res = np.zeros_like(vars)\n",
    "    \n",
    "    # 状态变量\n",
    "    V, u, phi = vars\n",
    "\n",
    "    dV_dt = 0.04 * V * V + 5 * V - u + 140 - k1*(alpha + 3*beta*phi*phi)*V + I[0]\n",
    "    du_dt = a * (b * V - u) + I[1]\n",
    "    dphi_dt = k2 * V - k3 * phi + I[2]\n",
    "\n",
    "    # 输出结果\n",
    "    res[0] = dV_dt\n",
    "    res[1] = du_dt\n",
    "    res[2] = dphi_dt\n",
    "\n",
    "    return res\n",
    "\n",
    "@njit\n",
    "def spikes_eval_Iz(var, t, thresh, flaglaunch, firingTime, c, d):\n",
    "    \"\"\"\n",
    "        计算神经元是否发放脉冲\n",
    "    \"\"\"\n",
    "    flaglaunch[:] = 0                                   # 重置放电开启标志\n",
    "    firing_StartPlace = np.where(var[0] > thresh)\n",
    "    flaglaunch[firing_StartPlace] = 1                   # 放电开启标志\n",
    "    firingTime[firing_StartPlace] = t                   # 记录放电时间\n",
    "\n",
    "    var[0] = var[0] * (1 - flaglaunch) + flaglaunch * c\n",
    "    var[1] += flaglaunch * d"
   ]
  },
  {
   "cell_type": "markdown",
   "id": "88c0057f",
   "metadata": {},
   "source": [
    "#### 混沌模型"
   ]
  },
  {
   "cell_type": "code",
   "execution_count": 4,
   "id": "6ce116c4",
   "metadata": {},
   "outputs": [],
   "source": [
    "@njit\n",
    "def Lorenz_model(vars, t):\n",
    "    res = np.zeros_like(vars)\n",
    "\n",
    "    # 常数参数\n",
    "    sigma, rho, beta = 10., 28., 8./3.\n",
    "\n",
    "    # 状态变量\n",
    "    x, y, z = vars\n",
    "\n",
    "    # 变量的导数\n",
    "    dx_dt = sigma * (y - x)\n",
    "    dy_dt = x * (rho - z) - y\n",
    "    dz_dt = x * y - beta * z\n",
    "\n",
    "    # 输出结果\n",
    "    res[0] = dx_dt\n",
    "    res[1] = dy_dt\n",
    "    res[2] = dz_dt\n",
    "\n",
    "    return res"
   ]
  },
  {
   "cell_type": "markdown",
   "id": "a2312ab5",
   "metadata": {},
   "source": [
    "#### 突触模型"
   ]
  },
  {
   "cell_type": "code",
   "execution_count": 5,
   "id": "8cbb7800",
   "metadata": {},
   "outputs": [],
   "source": [
    "@njit\n",
    "def dr_dt(r, t, vars):\n",
    "    dr_dt = (1-r)/(1+np.exp(-vars)) - r/10.\n",
    "    return dr_dt\n",
    "\n",
    "@njit\n",
    "def syn_chem_ds(vars, r, e, pre_ids, post_ids, w, t, dt, vars_d):\n",
    "    # 计算突触电流贡献\n",
    "    currents = w * (e[pre_ids] - vars[post_ids]) * r[pre_ids]\n",
    "\n",
    "    # 神经元数量\n",
    "    num_neurons = len(vars)  # 突触后神经元总数\n",
    "\n",
    "    # 累积电流贡献到突触后神经元\n",
    "    Isyn = np.bincount(post_ids, weights=currents, minlength=num_neurons)\n",
    "\n",
    "    # 更新突触后神经元的状态变量\n",
    "    Euler(dr_dt, r, t, dt, vars_d)\n",
    "\n",
    "    return Isyn"
   ]
  },
  {
   "cell_type": "markdown",
   "id": "eba13b7f",
   "metadata": {},
   "source": [
    "#### 延迟器"
   ]
  },
  {
   "cell_type": "code",
   "execution_count": 6,
   "id": "5c5d0cf3",
   "metadata": {},
   "outputs": [],
   "source": [
    "@njit\n",
    "def delay(x, k, delayLong, delay):\n",
    "    \"\"\"\n",
    "        x: 输入的延迟变量\n",
    "        k: 指针位置\n",
    "        delayLong: 延迟时长\n",
    "        delay: 延迟存储矩阵\n",
    "    \"\"\"\n",
    "    # 计算延迟位置索引\n",
    "    delayed_k = (k - delayLong) % (delayLong+1)\n",
    "\n",
    "    # 输出延迟值\n",
    "    delay_o = delay[:, delayed_k].copy() \n",
    "    k = (k + 1) % (delayLong+1)             # 前进指针\n",
    "    delay[:, k] = x\n",
    "\n",
    "    return delay_o, k"
   ]
  },
  {
   "cell_type": "code",
   "execution_count": 7,
   "id": "9e729b71",
   "metadata": {},
   "outputs": [],
   "source": [
    "@njit\n",
    "def net(epli_chaos, omega_weak, g_syn):\n",
    "    # ============ 设置节点参数 ============ \n",
    "    nodes_exc = np.array([0, 1, 2], dtype=np.int8)   # 兴奋性神经元\n",
    "    # nodes_exc = np.empty(0, dtype=np.int8)   # 兴奋性神经元(没有时使用空数组)\n",
    "    # nodes_inh = np.array([2], dtype=np.int8)   # 抑制性神经元\n",
    "    nodes_inh = np.empty(0, dtype=np.int8)   # 抑制性神经元(没有时使用空数组)\n",
    "    \n",
    "    a = np.zeros(3)  # a参数\n",
    "    b = np.zeros(3)  # b参数\n",
    "    c = np.zeros(3)  # c参数\n",
    "    d = np.zeros(3)  # d参数\n",
    "    # 兴奋性神经元\n",
    "    a[nodes_exc] = 0.02\n",
    "    b[nodes_exc] = 0.2\n",
    "    c[nodes_exc] = -65\n",
    "    d[nodes_exc] = 8\n",
    "    # 抑制性神经元\n",
    "    a[nodes_inh] = 0.1\n",
    "    b[nodes_inh] = 0.2\n",
    "    c[nodes_inh] = -65\n",
    "    d[nodes_inh] = 2\n",
    "\n",
    "    thresh = 30  # 放电阈值\n",
    "    flaglaunch = np.zeros(3, dtype=np.int8)  # 放电开启标志\n",
    "    firingTime = np.zeros(3)  # 放电时间\n",
    "    \n",
    "    k1 = 0.01\n",
    "    k2 = 0.01\n",
    "    k3 = 0.2\n",
    "    alpha = 0.4\n",
    "    beta = 0.02\n",
    "\n",
    "    # 状态变量初始化\n",
    "    v = 0.3*np.ones(3)                  # 膜电位\n",
    "    u = 0.2*np.ones(3)                  # 恢复变量\n",
    "    phi = 0.1*np.ones(3)                # 磁通量\n",
    "    vars_nodes = np.vstack((v, u, phi))  # 状态变量矩阵\n",
    "\n",
    "    N_vars = 3  # 变量的数量\n",
    "\n",
    "    # ============ 混沌信号状态变量初始化 ============ \n",
    "    x0_chaos = -0.1*np.ones(1)\n",
    "    y0_chaos = 0.1*np.ones(1)\n",
    "    z0_chaos = 0.3*np.ones(1)\n",
    "    vars_nodes_chaos = np.vstack((x0_chaos, y0_chaos, z0_chaos))  # 混沌状态变量矩阵\n",
    "\n",
    "    # ============ 突触参数 ============\n",
    "    # 突触连接矩阵\n",
    "    A = np.array([[0, 0, 0],\n",
    "                  [1, 0, 0],\n",
    "                  [1, 0, 1]], dtype=np.int8)\n",
    "    # 突触连接矩阵的稀疏表示\n",
    "    # A_sparse = coo_matrix(A)\n",
    "    # post_ids = A_sparse.row   # 突触后神经元的索引\n",
    "    # pre_ids = A_sparse.col    # 突触前神经元的索引\n",
    "    post_ids, pre_ids = np.nonzero(A)\n",
    "    # print(pre_ids, post_ids)\n",
    " \n",
    "    # g_syn = 0.02                 # 突触强度\n",
    "    e_syn = np.zeros(3)         # 突触前神经元的平衡电位\n",
    "    e_syn[nodes_exc] = 0.       # 兴奋性神经元的平衡电位\n",
    "    e_syn[nodes_inh] = -80.     # 抑制性神经元的平衡电位\n",
    "\n",
    "    r_syn = 0.1*np.ones(3)  # 与突触相关的变量\n",
    "\n",
    "    # 突触延迟参数\n",
    "    Tn_d = 10_00                         # 延迟时长\n",
    "    delay_m = np.zeros((3, Tn_d+1))      # 延迟存储矩阵\n",
    "    k_d = 0                              # 延迟指针\n",
    "\n",
    "    # ============ 运行部分 ============\n",
    "    # 时间参数\n",
    "    dt = 0.01  # 时间步长\n",
    "    t = 0.  # 初始时间\n",
    "\n",
    "    # 初始化\n",
    "    for _ in range(1000_00):\n",
    "        # 时间延迟\n",
    "        vars_nodes_d, k_d = delay(vars_nodes[0], k_d, Tn_d, delay_m)\n",
    "\n",
    "        I = np.zeros((N_vars, 3))\n",
    "        Euler(Iz_model, vars_nodes, t, dt, I, a, b, k1, k2, k3, alpha, beta)\n",
    "        spikes_eval_Iz(vars_nodes, t, thresh, flaglaunch, firingTime, c, d)\n",
    "\n",
    "        Euler(Lorenz_model, vars_nodes_chaos, t, dt)    # 混沌信号\n",
    "\n",
    "    # 弱信号\n",
    "    A_weak = 2.\n",
    "    # omega_weak = 0.15\n",
    "\n",
    "    # epli_chaos = 0.1  # 混沌信号的扰动\n",
    "\n",
    "    for _ in range(1000_00):\n",
    "        # 时间延迟\n",
    "        vars_nodes_d, k_d = delay(vars_nodes[0], k_d, Tn_d, delay_m)\n",
    "\n",
    "        # 突触电流\n",
    "        I_syn = syn_chem_ds(vars_nodes[0], r_syn, e_syn, pre_ids, post_ids, g_syn, t, dt, vars_nodes_d)\n",
    "\n",
    "        I = np.zeros((N_vars, 3))\n",
    "        I[0, 0] += A_weak * np.sin(omega_weak * t)  # 第一个神经元的膜电位上加上\n",
    "        I[0] += epli_chaos * vars_nodes_chaos[0]    # 混沌信号扰动\n",
    "        I[0] += I_syn   # 突触电流\n",
    "\n",
    "        Euler(Iz_model, vars_nodes, t, dt, I, a, b, k1, k2, k3, alpha, beta)\n",
    "        spikes_eval_Iz(vars_nodes, t, thresh, flaglaunch, firingTime, c, d)\n",
    "\n",
    "        Euler(Lorenz_model, vars_nodes_chaos, t, dt)    # 混沌信号\n",
    "\n",
    "        t += dt\n",
    "\n",
    "    # 统计计算\n",
    "    Q_sin = 0.\n",
    "    Q_cos = 0.\n",
    "\n",
    "    M = 500 # 计算周期\n",
    "    cal_n = int(2 * np.pi * M / (omega_weak * dt))\n",
    "    # print(cal_n)\n",
    "    # mem = []\n",
    "    for _ in range(cal_n):\n",
    "        # 时间延迟\n",
    "        vars_nodes_d, k_d = delay(vars_nodes[0], k_d, Tn_d, delay_m)\n",
    "\n",
    "        # 突触电流\n",
    "        I_syn = syn_chem_ds(vars_nodes[0], r_syn, e_syn, pre_ids, post_ids, g_syn, t, dt, vars_nodes_d)\n",
    "\n",
    "        I = np.zeros((N_vars, 3))\n",
    "        I[0, 0] += A_weak * np.sin(omega_weak * t)  # 第一个神经元的膜电位上加上\n",
    "        I[0] += epli_chaos * vars_nodes_chaos[0]    # 混沌信号扰动\n",
    "        I[0] += I_syn   # 突触电流\n",
    "\n",
    "        Euler(Iz_model, vars_nodes, t, dt, I, a, b, k1, k2, k3, alpha, beta)\n",
    "        spikes_eval_Iz(vars_nodes, t, thresh, flaglaunch, firingTime, c, d)\n",
    "\n",
    "        Euler(Lorenz_model, vars_nodes_chaos, t, dt)    # 混沌信号\n",
    "\n",
    "        # 计算傅里叶系数\n",
    "        Q_sin += 2 * vars_nodes[0, 2] * np.sin(omega_weak * t) / cal_n\n",
    "        Q_cos += 2 * vars_nodes[0, 2] * np.cos(omega_weak * t) / cal_n\n",
    "\n",
    "        t += dt\n",
    "        # mem.append(vars_nodes[0].copy())  # 记录膜电位\n",
    "\n",
    "    Q_ = np.sqrt(Q_sin**2 + Q_cos**2)   # 傅里叶系数\n",
    "\n",
    "    # print(Q_)\n",
    "\n",
    "    return Q_\n",
    "\n",
    "    # return np.array(mem)"
   ]
  },
  {
   "cell_type": "code",
   "execution_count": 8,
   "id": "5c39a91d",
   "metadata": {},
   "outputs": [],
   "source": [
    "@njit(parallel=True)\n",
    "def Parallel_net(epli_chaos_list, omega_weak, g_syn):\n",
    "    \"\"\"\n",
    "        并行计算网络\n",
    "    \"\"\"\n",
    "    lens = len(epli_chaos_list)\n",
    "    results = np.zeros(lens)\n",
    "    for i in prange(lens):\n",
    "        results[i] = net(epli_chaos_list[i], omega_weak, g_syn)\n",
    "        \n",
    "    return results"
   ]
  },
  {
   "cell_type": "code",
   "execution_count": 9,
   "id": "7c0ba314",
   "metadata": {},
   "outputs": [],
   "source": [
    "# epli_chaos = 0.5\n",
    "# omega_weak = 0.15\n",
    "# g_syn = 0.9\n",
    "# mem = net(epli_chaos, omega_weak, g_syn)\n",
    "# Q = net(epli_chaos, omega_weak, g_syn)\n",
    "# plt.plot(mem[:, 0])\n",
    "# plt.show()"
   ]
  },
  {
   "cell_type": "code",
   "execution_count": 10,
   "id": "184c77a7",
   "metadata": {},
   "outputs": [],
   "source": [
    "epli_chaos_list = np.linspace(0.001, 3.5, 60)\n",
    "g_syn = 0.9"
   ]
  },
  {
   "cell_type": "code",
   "execution_count": 11,
   "id": "c1231bc9",
   "metadata": {},
   "outputs": [],
   "source": [
    "omega_weak = 0.15\n",
    "results1 = Parallel_net(epli_chaos_list, omega_weak, g_syn)"
   ]
  },
  {
   "cell_type": "code",
   "execution_count": 12,
   "id": "db45eb7e",
   "metadata": {},
   "outputs": [],
   "source": [
    "omega_weak = 0.09\n",
    "results2 = Parallel_net(epli_chaos_list, omega_weak, g_syn)"
   ]
  },
  {
   "cell_type": "code",
   "execution_count": 13,
   "id": "ec53e4bf",
   "metadata": {},
   "outputs": [],
   "source": [
    "omega_weak = 0.07\n",
    "results3 = Parallel_net(epli_chaos_list, omega_weak, g_syn)"
   ]
  },
  {
   "cell_type": "code",
   "execution_count": 14,
   "id": "112acd7c",
   "metadata": {},
   "outputs": [],
   "source": [
    "omega_weak = 0.05\n",
    "results4 = Parallel_net(epli_chaos_list, omega_weak, g_syn)"
   ]
  },
  {
   "cell_type": "code",
   "execution_count": 15,
   "id": "422f3ba3",
   "metadata": {},
   "outputs": [],
   "source": [
    "omega_weak = 0.03\n",
    "results5 = Parallel_net(epli_chaos_list, omega_weak, g_syn)"
   ]
  },
  {
   "cell_type": "code",
   "execution_count": 16,
   "id": "92bb78ed",
   "metadata": {},
   "outputs": [],
   "source": [
    "omega_weak = 0.01\n",
    "results6 = Parallel_net(epli_chaos_list, omega_weak, g_syn)"
   ]
  },
  {
   "cell_type": "code",
   "execution_count": 17,
   "id": "8cba8871",
   "metadata": {},
   "outputs": [
    {
     "data": {
      "image/png": "[encoded data removed]",
      "text/plain": [
       "<Figure size 640x480 with 1 Axes>"
      ]
     },
     "metadata": {},
     "output_type": "display_data"
    }
   ],
   "source": [
    "plt.plot(epli_chaos_list, results1, marker='o', label=f\"$\\omega={0.15}$\")\n",
    "plt.plot(epli_chaos_list, results2, marker='s', label=f\"$\\omega={0.09}$\")\n",
    "plt.plot(epli_chaos_list, results3, marker='^', label=f\"$\\omega={0.07}$\")\n",
    "plt.plot(epli_chaos_list, results4, marker='*', label=f\"$\\omega={0.05}$\")\n",
    "plt.plot(epli_chaos_list, results5, marker='+', label=f\"$\\omega={0.03}$\")\n",
    "plt.plot(epli_chaos_list, results6, marker='d', label=f\"$\\omega={0.01}$\")\n",
    "\n",
    "plt.legend()\n",
    "plt.show()"
   ]
  },
  {
   "cell_type": "code",
   "execution_count": null,
   "id": "293a0bb1",
   "metadata": {},
   "outputs": [],
   "source": []
  }
 ],
 "metadata": {
  "kernelspec": {
   "display_name": "Python 3",
   "language": "python",
   "name": "python3"
  },
  "language_info": {
   "codemirror_mode": {
    "name": "ipython",
    "version": 3
   },
   "file_extension": ".py",
   "mimetype": "text/x-python",
   "name": "python",
   "nbconvert_exporter": "python",
   "pygments_lexer": "ipython3",
   "version": "3.11.9"
  }
 },
 "nbformat": 4,
 "nbformat_minor": 5
}
