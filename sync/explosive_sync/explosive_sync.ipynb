{
 "cells": [
  {
   "cell_type": "markdown",
   "id": "e9176f0b",
   "metadata": {},
   "source": [
    "### 使用 Kuramoto 模型模拟爆炸同步现象\n",
    "ref: Gómez-Gardeñes, J., Gómez, S., Arenas, A., Moreno, Y.: Explosive synchronization transitions in scale-free networks. Phys. Rev. Lett. 106, 128701 (2011).\n",
    "\n",
    "model: Kuramoto model\n",
    "\n",
    "network: scale-free network"
   ]
  },
  {
   "cell_type": "code",
   "execution_count": 42,
   "id": "1ee9886f",
   "metadata": {},
   "outputs": [],
   "source": [
    "import numpy as np\n",
    "import matplotlib.pyplot as plt\n",
    "from numba import njit, prange\n",
    "import random\n",
    "import networkx as nx\n",
    "from scipy.sparse import coo_matrix\n",
    "from joblib import Parallel, delayed"
   ]
  },
  {
   "cell_type": "code",
   "execution_count": 43,
   "id": "203eb012",
   "metadata": {},
   "outputs": [],
   "source": [
    "# 演算法\n",
    "@njit\n",
    "def Heun(fun, x0, t, dt, *args):\n",
    "    \"\"\"\n",
    "    使用 Heun 方法计算一个时间步后系统的状态。\n",
    "    args:\n",
    "        fun: 微分方程函数，形式为 fun(x, t, *args)\n",
    "        x0: 上一个时间单位的状态变量 (numpy.ndarray)\n",
    "        t: 当前时间\n",
    "        dt: 时间步长\n",
    "    return:\n",
    "        x1 (numpy.ndarray): 下一个时间单位的状态变量\n",
    "    \"\"\"\n",
    "    # 计算当前点的斜率\n",
    "    k1 = fun(x0, t, *args)\n",
    "    \n",
    "    # 使用 Euler 法预测值\n",
    "    x_pred = x0 + dt * k1\n",
    "    \n",
    "    # 在预测点上计算新的斜率\n",
    "    k2 = fun(x_pred, t + dt, *args)\n",
    "    \n",
    "    # 加权平均斜率得到新的状态\n",
    "    x0 += 0.5 * dt * (k1 + k2)\n",
    "    return x0\n",
    "\n",
    "# Kuramoto 模型\n",
    "@njit\n",
    "def kuramoto(vars, t, omega, c, pre_ids, post_ids):\n",
    "    \"\"\"\n",
    "    Kuramoto 模型的微分方程。\n",
    "    args:\n",
    "        vars: 相位\n",
    "        t: 当前时间\n",
    "        omega: 自然频率\n",
    "        A: 耦合强度矩阵\n",
    "        c: 耦合强度\n",
    "    \"\"\"\n",
    "    currents = c * np.sin(vars[pre_ids]- vars[post_ids])\n",
    "\n",
    "    num_nodes = len(vars)\n",
    "    \n",
    "    I_couple = np.bincount(post_ids, weights=currents, minlength=num_nodes)\n",
    "\n",
    "    dvars_dt = omega + I_couple\n",
    "\n",
    "    return dvars_dt  "
   ]
  },
  {
   "cell_type": "code",
   "execution_count": 44,
   "id": "b6f2c26d",
   "metadata": {},
   "outputs": [],
   "source": [
    "def order_parameter(vars):\n",
    "    \"\"\"\n",
    "    计算系统的顺序参数。\n",
    "    args:\n",
    "        vars: 相位\n",
    "    return:\n",
    "        r (float): 顺序参数\n",
    "    \"\"\"\n",
    "    N = len(vars)\n",
    "    r = np.abs(np.sum(np.exp(1j * vars)) / N)\n",
    "    return r"
   ]
  },
  {
   "cell_type": "code",
   "execution_count": 45,
   "id": "dfc7fd95",
   "metadata": {},
   "outputs": [],
   "source": [
    "# k = 6    # 每个节点的初始连接数（形成规则环格）\n",
    "# p = 0.0  # 重连概率（p越大，网络越随机）\n",
    "# G = nx.watts_strogatz_graph(n, k, p)\n",
    "# G = nx.erdos_renyi_graph(n, p)\n",
    "# G = nx.random_graphs.barabasi_albert_graph(n, 2)\n",
    "\n",
    "# A = nx.adjacency_matrix(G).tocoo() # 邻接矩阵(稀疏)\n",
    "# post_ids = A.row\n",
    "# pre_ids = A.col"
   ]
  },
  {
   "cell_type": "code",
   "execution_count": 46,
   "id": "3a259f8c",
   "metadata": {},
   "outputs": [],
   "source": [
    "# 运行\n",
    "def net(c_list):\n",
    "\n",
    "    n = 1000  # 节点数\n",
    "    G = nx.barabasi_albert_graph(n, 3)\n",
    "    A = nx.adjacency_matrix(G).tocoo() # 邻接矩阵(稀疏)\n",
    "    post_ids = A.row\n",
    "    pre_ids = A.col\n",
    "\n",
    "    # 初始相位\n",
    "    vars = np.random.uniform(-np.pi, np.pi, n)  \n",
    "\n",
    "    # 自然频率\n",
    "    # omega = np.random.uniform(-.5, .5, n)  \n",
    "    omega = np.asarray(list(dict(G.degree()).values()))\n",
    "\n",
    "    dt = 0.05\n",
    "\n",
    "    r_list = []\n",
    "\n",
    "    for c in c_list:\n",
    "\n",
    "        t = 0.\n",
    "        \n",
    "        ### 初始化\n",
    "        for i in range(1000_00):\n",
    "            Heun(kuramoto, vars, t, dt, omega, c, pre_ids, post_ids)\n",
    "            t += dt\n",
    "\n",
    "        # vars_list = []\n",
    "        r = 0.\n",
    "        cal_n = 3000_00\n",
    "        for i in range(cal_n):\n",
    "            Heun(kuramoto, vars, t, dt, omega, c, pre_ids, post_ids)\n",
    "            t += dt\n",
    "\n",
    "            r += order_parameter(vars)/cal_n\n",
    "            \n",
    "            # vars_list.append(vars.copy())\n",
    "        \n",
    "        r_list.append(r)\n",
    "\n",
    "    return r_list"
   ]
  },
  {
   "cell_type": "code",
   "execution_count": 47,
   "id": "4279e0ad",
   "metadata": {},
   "outputs": [],
   "source": [
    "c_list1 = np.arange(1.1, 1.62, 0.02)  # 耦合强度列表\n",
    "c_list2 = np.arange(1.6, 1.08, -0.02)"
   ]
  },
  {
   "cell_type": "code",
   "execution_count": 48,
   "id": "610b413f",
   "metadata": {},
   "outputs": [],
   "source": [
    "# c_ = [1.6]\n",
    "# net(c_)"
   ]
  },
  {
   "cell_type": "code",
   "execution_count": 49,
   "id": "ee0ef691",
   "metadata": {},
   "outputs": [],
   "source": [
    "results = Parallel(n_jobs=20)(delayed(net)(c_list) for c_list in [c_list1, c_list2])"
   ]
  },
  {
   "cell_type": "code",
   "execution_count": 50,
   "id": "8d6822a6",
   "metadata": {},
   "outputs": [],
   "source": [
    "r_list1, r_list2 = results"
   ]
  },
  {
   "cell_type": "code",
   "execution_count": 51,
   "id": "a4b05f29",
   "metadata": {},
   "outputs": [
    {
     "data": {
      "image/png": "[encoded data removed]",
      "text/plain": [
       "<Figure size 640x480 with 1 Axes>"
      ]
     },
     "metadata": {},
     "output_type": "display_data"
    }
   ],
   "source": [
    "plt.plot(c_list1, r_list1, marker='o', label=\"forward\")\n",
    "plt.plot(c_list2, r_list2, marker='o', label=\"backward\")\n",
    "\n",
    "x = c_list1\n",
    "y1 = r_list1\n",
    "y2 = r_list2\n",
    "\n",
    "plt.xlim(1.1, 1.6)\n",
    "plt.ylim(0, 1)\n",
    "\n",
    "plt.xlabel(\"c\")\n",
    "plt.ylabel(\"r\")\n",
    "plt.legend()\n",
    "\n",
    "plt.show()"
   ]
  },
  {
   "cell_type": "code",
   "execution_count": 52,
   "id": "9ff78e67",
   "metadata": {},
   "outputs": [],
   "source": [
    "# # 处理相位变化\n",
    "# Vars_list = np.asarray(vars_list)\n",
    "# phase_list = Vars_list % (2 * np.pi)"
   ]
  },
  {
   "cell_type": "code",
   "execution_count": 53,
   "id": "b892629f",
   "metadata": {},
   "outputs": [],
   "source": [
    "# plt.plot(phase_list[:1000_00, :2])\n",
    "# plt.show()"
   ]
  }
 ],
 "metadata": {
  "kernelspec": {
   "display_name": "Python 3",
   "language": "python",
   "name": "python3"
  },
  "language_info": {
   "codemirror_mode": {
    "name": "ipython",
    "version": 3
   },
   "file_extension": ".py",
   "mimetype": "text/x-python",
   "name": "python",
   "nbconvert_exporter": "python",
   "pygments_lexer": "ipython3",
   "version": "3.11.9"
  }
 },
 "nbformat": 4,
 "nbformat_minor": 5
}
