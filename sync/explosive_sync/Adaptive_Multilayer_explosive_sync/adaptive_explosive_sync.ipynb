{
 "cells": [
  {
   "cell_type": "markdown",
   "id": "0346eda5",
   "metadata": {},
   "source": [
    "#### 使用适应性耦合强度，实现同步的爆炸同步\n",
    "ref : X. Zhang, et al. Explosive Synchronization in Adaptive and Multilayer Networks, Phys. Rev. Lett. 114, 038701 (2015).\n",
    "\n",
    "model: Kuramoto model\n",
    "\n",
    "network: ER network "
   ]
  },
  {
   "cell_type": "code",
   "execution_count": 1,
   "id": "1f141ea8",
   "metadata": {},
   "outputs": [],
   "source": [
    "import numpy as np\n",
    "import matplotlib.pyplot as plt\n",
    "from numba import njit, prange\n",
    "import random\n",
    "import networkx as nx\n",
    "from scipy.sparse import coo_matrix\n",
    "import scipy.sparse as sp\n",
    "from joblib import Parallel, delayed\n",
    "from tqdm import tqdm"
   ]
  },
  {
   "cell_type": "code",
   "execution_count": 2,
   "id": "9bd7293c",
   "metadata": {},
   "outputs": [],
   "source": [
    "seed = 0\n",
    "random.seed(seed)\n",
    "np.random.seed(seed)"
   ]
  },
  {
   "cell_type": "markdown",
   "id": "f5029d35",
   "metadata": {},
   "source": [
    "##### 模型算法"
   ]
  },
  {
   "cell_type": "code",
   "execution_count": 3,
   "id": "7e04893b",
   "metadata": {},
   "outputs": [],
   "source": [
    "# Kuramoto 模型\n",
    "@njit\n",
    "def kuramoto(vars, t, omega, c, pre_ids, post_ids):\n",
    "    \"\"\"\n",
    "    Kuramoto 模型的微分方程。\n",
    "    args:\n",
    "        vars: 相位\n",
    "        t: 当前时间\n",
    "        omega: 自然频率\n",
    "        c: 耦合强度\n",
    "    \"\"\"\n",
    "    currents = np.sin(vars[pre_ids]- vars[post_ids])\n",
    "\n",
    "    num_nodes = len(vars)\n",
    "    \n",
    "    I_couple = np.bincount(post_ids, weights=currents, minlength=num_nodes)\n",
    "\n",
    "    dvars_dt = omega + c * I_couple\n",
    "\n",
    "    return dvars_dt\n",
    "\n",
    "@njit\n",
    "def RK4(fun, x0, t, dt, *args):\n",
    "    \"\"\"\n",
    "    使用 Runge-Kutta 方法计算一个时间步后系统的状态。\n",
    "    args:\n",
    "        fun: 微分方程\n",
    "        x0: 上一个时间单位的状态变量\n",
    "        t: 运行时间\n",
    "        dt: 时间步长\n",
    "    :return:\n",
    "        x0 (numpy.ndarray): 下一个时间单位的状态变量\n",
    "    \"\"\"\n",
    "    k1 = fun(x0, t, *args)\n",
    "    k2 = fun(x0 + (dt / 2.) * k1, t + (dt / 2.), *args)\n",
    "    k3 = fun(x0 + (dt / 2.) * k2, t + (dt / 2.), *args)\n",
    "    k4 = fun(x0 + dt * k3, t + dt, *args)\n",
    "\n",
    "    x0 += (dt / 6.) * (k1 + 2 * k2 + 2 * k3 + k4)\n",
    "\n",
    "@njit\n",
    "def Heun(fun, x0, t, dt, *args):\n",
    "    \"\"\"\n",
    "    使用 Heun 方法计算一个时间步后系统的状态。\n",
    "    args:\n",
    "        fun: 微分方程函数，形式为 fun(x, t, *args)\n",
    "        x0: 上一个时间单位的状态变量 (numpy.ndarray)\n",
    "        t: 当前时间\n",
    "        dt: 时间步长\n",
    "    return:\n",
    "        x1 (numpy.ndarray): 下一个时间单位的状态变量\n",
    "    \"\"\"\n",
    "    # 计算当前点的斜率\n",
    "    k1 = fun(x0, t, *args)\n",
    "    \n",
    "    # 使用 Euler 法预测值\n",
    "    x_pred = x0 + dt * k1\n",
    "    \n",
    "    # 在预测点上计算新的斜率\n",
    "    k2 = fun(x_pred, t + dt, *args)\n",
    "    \n",
    "    # 加权平均斜率得到新的状态\n",
    "    x0 += 0.5 * dt * (k1 + k2)\n",
    "    return x0"
   ]
  },
  {
   "cell_type": "code",
   "execution_count": 4,
   "id": "a84c6add",
   "metadata": {},
   "outputs": [],
   "source": [
    "method = Heun"
   ]
  },
  {
   "cell_type": "markdown",
   "id": "e1f140e6",
   "metadata": {},
   "source": [
    "##### 统计量"
   ]
  },
  {
   "cell_type": "code",
   "execution_count": 5,
   "id": "f482170d",
   "metadata": {},
   "outputs": [],
   "source": [
    "@njit\n",
    "def order_parameter(vars):\n",
    "    \"\"\"\n",
    "    计算系统的序参量。\n",
    "    args:\n",
    "        vars: 相位\n",
    "    return:\n",
    "        r (float): 序参量\n",
    "    \"\"\"\n",
    "    N = len(vars)\n",
    "    r = np.abs(np.sum(np.exp(1j * vars)) / N)\n",
    "    return r\n",
    "\n",
    "@njit\n",
    "def local_order_parameter(vars, pre_ids, post_ids, degree_lit):\n",
    "    \"\"\"\n",
    "    计算系统的局部序参量。\n",
    "    args:\n",
    "        vars: 相位\n",
    "        pre_ids: 前节点id\n",
    "        post_ids: 后节点id\n",
    "        degree_lit: 节点度\n",
    "    return:\n",
    "        r (float): 局部序参量\n",
    "    \"\"\"\n",
    "    N = len(vars)\n",
    "\n",
    "    # 计算复指数\n",
    "    r_temp = np.exp(1j * vars[pre_ids])\n",
    "\n",
    "    # 分别处理实部和虚部\n",
    "    real_part = r_temp.real\n",
    "    imag_part = r_temp.imag\n",
    "\n",
    "    # 使用 np.bincount 分别计算实部和虚部的累加\n",
    "    sum_real = np.bincount(post_ids, weights=real_part, minlength=N)\n",
    "    sum_imag = np.bincount(post_ids, weights=imag_part, minlength=N)\n",
    "\n",
    "    # 合并为复数\n",
    "    # r_sum = sum_real + 1j * sum_imag\n",
    "    r_sum_abs = np.sqrt(sum_real**2 + sum_imag**2)\n",
    "    \n",
    "    r_local = r_sum_abs / degree_lit\n",
    "\n",
    "    return r_local"
   ]
  },
  {
   "cell_type": "code",
   "execution_count": 6,
   "id": "50732f26",
   "metadata": {},
   "outputs": [],
   "source": [
    "# 创建网络\n",
    "@njit\n",
    "def net(N, A_adj, w_list):\n",
    "    # =================== 节点参数 =================== \n",
    "    # 自然频率\n",
    "    omega = np.random.uniform(-1., 1., N)\n",
    "    # 初始相位\n",
    "    vars_nodes = np.random.uniform(-np.pi, np.pi, N)\n",
    "\n",
    "    dt = 0.05\n",
    "\n",
    "    # =================== 网络参数 ===================\n",
    "    post_ids, pre_ids = np.nonzero(A_adj)\n",
    "    degrees = A_adj.sum(axis=1)\n",
    "\n",
    "    # 自适应节点设定\n",
    "    f_adaptive = 1.\n",
    "    N_adaptive = int(f_adaptive*N)\n",
    "    idx = np.arange(N)\n",
    "    np.random.shuffle(idx)\n",
    "    Nodes_adaptive = np.sort(idx[:N_adaptive])\n",
    "\n",
    "    r_list = []\n",
    "    for w in w_list:\n",
    "        # w = 0.3\n",
    "        weights = w * np.ones(N)\n",
    "\n",
    "        t = 0.\n",
    "        # # 初始化(节点)\n",
    "        # for i in range(200_00):\n",
    "        #     method(kuramoto, vars_nodes, t, dt, omega, weights, pre_ids, post_ids)\n",
    "\n",
    "        # 初始化(网络)\n",
    "        for i in range(200_00):\n",
    "            r_local = local_order_parameter(vars_nodes, pre_ids, post_ids, degrees)\n",
    "\n",
    "            weights[Nodes_adaptive] = w * r_local[Nodes_adaptive]\n",
    "\n",
    "            method(kuramoto, vars_nodes, t, dt, omega, weights, pre_ids, post_ids)\n",
    "\n",
    "        # =================== 计算 ===================\n",
    "        r = 0.\n",
    "        cal_n = 3000_00\n",
    "        for i in range(cal_n):\n",
    "            r_local = local_order_parameter(vars_nodes, pre_ids, post_ids, degrees)\n",
    "\n",
    "            weights[Nodes_adaptive] = w * r_local[Nodes_adaptive]\n",
    "\n",
    "            method(kuramoto, vars_nodes, t, dt, omega, weights, pre_ids, post_ids)\n",
    "\n",
    "            t += dt\n",
    "\n",
    "            r += order_parameter(vars_nodes)/cal_n\n",
    "\n",
    "        r_list.append(r)\n",
    "\n",
    "    return r_list"
   ]
  },
  {
   "cell_type": "code",
   "execution_count": 7,
   "id": "0030b164",
   "metadata": {},
   "outputs": [],
   "source": [
    "@njit(parallel=True)\n",
    "def Parallel_net(N, A_adj, weight_list):\n",
    "    len = weight_list[0].shape[0]\n",
    "    results = np.zeros((2, len))\n",
    "\n",
    "    for i in prange(2):\n",
    "        result = net(N, A_adj, weight_list[i])\n",
    "        results[i] = np.asarray(result)\n",
    "        \n",
    "    return results"
   ]
  },
  {
   "cell_type": "code",
   "execution_count": 8,
   "id": "fca5d9f9",
   "metadata": {},
   "outputs": [],
   "source": [
    "N = 1000\n",
    "m = 12\n",
    "\n",
    "G = nx.gnm_random_graph(N, int(m*N/2))\n",
    "A_adj = nx.to_numpy_array(G)  # 邻接矩阵\n",
    "\n",
    "# r = net(N, A_adj)"
   ]
  },
  {
   "cell_type": "code",
   "execution_count": 9,
   "id": "9c831582",
   "metadata": {},
   "outputs": [],
   "source": [
    "w_list1 = np.arange(0., 0.51, 0.01)  # 耦合强度列表\n",
    "w_list2 = w_list1[::-1].copy()\n",
    "weight_list = np.asarray([w_list1, w_list2])"
   ]
  },
  {
   "cell_type": "code",
   "execution_count": 10,
   "id": "4b7d8818",
   "metadata": {},
   "outputs": [],
   "source": [
    "results = Parallel_net(N, A_adj, weight_list)"
   ]
  },
  {
   "cell_type": "code",
   "execution_count": 11,
   "id": "dfb5f0de",
   "metadata": {},
   "outputs": [
    {
     "data": {
      "image/png": "[encoded data removed]",
      "text/plain": [
       "<Figure size 640x480 with 1 Axes>"
      ]
     },
     "metadata": {},
     "output_type": "display_data"
    }
   ],
   "source": [
    "plt.plot(w_list1, results[0], 'o-', label='forward')\n",
    "plt.plot(w_list2, results[1], '*-', label='backward')\n",
    "plt.legend()\n",
    "plt.show()"
   ]
  }
 ],
 "metadata": {
  "kernelspec": {
   "display_name": "Python 3",
   "language": "python",
   "name": "python3"
  },
  "language_info": {
   "codemirror_mode": {
    "name": "ipython",
    "version": 3
   },
   "file_extension": ".py",
   "mimetype": "text/x-python",
   "name": "python",
   "nbconvert_exporter": "python",
   "pygments_lexer": "ipython3",
   "version": "3.11.9"
  }
 },
 "nbformat": 4,
 "nbformat_minor": 5
}
