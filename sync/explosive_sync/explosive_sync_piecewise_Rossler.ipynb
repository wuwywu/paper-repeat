{
 "cells": [
  {
   "cell_type": "markdown",
   "id": "79a6a6d8",
   "metadata": {},
   "source": [
    "### 使用 piecewise Rossler 模型模拟爆炸同步现象\n",
    "ref: I. Leyva, et al. Explosive first-order transition to synchrony in networked chaotic oscillators, Phys. Rev. Lett. 108, 168702 (2012).\n",
    "\n",
    "model: piecewise Rossler model\n",
    "\n",
    "network: scale-free network"
   ]
  },
  {
   "cell_type": "code",
   "execution_count": 1,
   "id": "53ef915b",
   "metadata": {},
   "outputs": [],
   "source": [
    "import numpy as np\n",
    "import matplotlib.pyplot as plt\n",
    "from numba import njit, prange\n",
    "import random\n",
    "import networkx as nx\n",
    "from scipy.sparse import coo_matrix\n",
    "from joblib import Parallel, delayed"
   ]
  },
  {
   "cell_type": "code",
   "execution_count": null,
   "id": "33843432",
   "metadata": {},
   "outputs": [],
   "source": [
    "# 演算法\n",
    "@njit\n",
    "def RK4(fun, x0, t, dt, *args):\n",
    "    \"\"\"\n",
    "    使用 Runge-Kutta 方法计算一个时间步后系统的状态。\n",
    "    args:\n",
    "        fun: 微分方程\n",
    "        x0: 上一个时间单位的状态变量\n",
    "        t: 运行时间\n",
    "        dt: 时间步长\n",
    "    :return:\n",
    "        x0 (numpy.ndarray): 下一个时间单位的状态变量\n",
    "    \"\"\"\n",
    "    k1 = fun(x0, t, *args)\n",
    "    k2 = fun(x0 + (dt / 2.) * k1, t + (dt / 2.), *args)\n",
    "    k3 = fun(x0 + (dt / 2.) * k2, t + (dt / 2.), *args)\n",
    "    k4 = fun(x0 + dt * k3, t + dt, *args)\n",
    "\n",
    "    x0 += (dt / 6.) * (k1 + 2 * k2 + 2 * k3 + k4)\n",
    "\n",
    "    return x0\n",
    "\n",
    "# piecewise Rossler model\n",
    "@njit\n",
    "def piecewise_Rossler(vars, t, I, alpha, beta, R, mu, gamma):\n",
    "    res = np.zeros_like(vars)\n",
    "    # 状态变量\n",
    "    x, y, z = vars\n",
    "\n",
    "    g_x = 0 if x <= 3 else mu*(x - 3)\n",
    "\n",
    "    dx_dt = gamma * (-alpha*(x - I) - z - beta*y)\n",
    "    dy_dt = gamma * (x - (0.02 - 10/R)*y)\n",
    "    dz_dt = gamma * (g_x - z)\n",
    "\n",
    "    res[0] = dx_dt\n",
    "    res[1] = dy_dt\n",
    "    res[2] = dz_dt\n",
    "\n",
    "    return res"
   ]
  },
  {
   "cell_type": "code",
   "execution_count": null,
   "id": "3ddba7a1",
   "metadata": {},
   "outputs": [],
   "source": [
    "# 耦合函数\n",
    "@njit\n",
    "def coupling_func(vars, d, ):\n",
    "    pass\n"
   ]
  },
  {
   "cell_type": "code",
   "execution_count": null,
   "id": "1d9def15",
   "metadata": {},
   "outputs": [],
   "source": [
    "@njit\n",
    "def net(N, ):\n",
    "    # ============ 设置节点参数 ============ \n",
    "    alpha = 0.05\n",
    "    beta = 0.5\n",
    "    R = 100                 # chaos(R: 55-110)\n",
    "    mu = 15\n",
    "    gamma_base = 10000  \n",
    "\n",
    "    x0 = 0.1*np.ones(N)\n",
    "    y0 = 0.2*np.ones(N)\n",
    "    z0 = 0.3*np.ones(N)\n",
    "    vars_nodes = np.vstack((x0, y0, z0))        # 状态变量矩阵\n",
    "    N_vars = 3          # 变量的数量\n"
   ]
  }
 ],
 "metadata": {
  "kernelspec": {
   "display_name": "Python 3",
   "language": "python",
   "name": "python3"
  },
  "language_info": {
   "codemirror_mode": {
    "name": "ipython",
    "version": 3
   },
   "file_extension": ".py",
   "mimetype": "text/x-python",
   "name": "python",
   "nbconvert_exporter": "python",
   "pygments_lexer": "ipython3",
   "version": "3.11.9"
  }
 },
 "nbformat": 4,
 "nbformat_minor": 5
}
