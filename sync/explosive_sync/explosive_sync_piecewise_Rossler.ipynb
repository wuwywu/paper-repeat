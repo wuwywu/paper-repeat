{
 "cells": [
  {
   "cell_type": "markdown",
   "id": "79a6a6d8",
   "metadata": {},
   "source": [
    "### 使用 piecewise Rossler 模型模拟爆炸同步现象\n",
    "ref: I. Leyva, et al. Explosive first-order transition to synchrony in networked chaotic oscillators, Phys. Rev. Lett. 108, 168702 (2012).\n",
    "\n",
    "model: piecewise Rossler model\n",
    "\n",
    "network: scale-free network"
   ]
  },
  {
   "cell_type": "code",
   "execution_count": 26,
   "id": "53ef915b",
   "metadata": {},
   "outputs": [],
   "source": [
    "import numpy as np\n",
    "import matplotlib.pyplot as plt\n",
    "from numba import njit, prange\n",
    "import random\n",
    "import networkx as nx\n",
    "from scipy.sparse import coo_matrix\n",
    "from joblib import Parallel, delayed"
   ]
  },
  {
   "cell_type": "code",
   "execution_count": 27,
   "id": "1737d2e7",
   "metadata": {},
   "outputs": [],
   "source": [
    "seed = 0\n",
    "random.seed(seed)\n",
    "np.random.seed(seed)"
   ]
  },
  {
   "cell_type": "code",
   "execution_count": 28,
   "id": "33843432",
   "metadata": {},
   "outputs": [],
   "source": [
    "# 演算法\n",
    "@njit\n",
    "def RK4(fun, x0, t, dt, *args):\n",
    "    \"\"\"\n",
    "    使用 Runge-Kutta 方法计算一个时间步后系统的状态。\n",
    "    args:\n",
    "        fun: 微分方程\n",
    "        x0: 上一个时间单位的状态变量\n",
    "        t: 运行时间\n",
    "        dt: 时间步长\n",
    "    :return:\n",
    "        x0 (numpy.ndarray): 下一个时间单位的状态变量\n",
    "    \"\"\"\n",
    "    k1 = fun(x0, t, *args)\n",
    "    k2 = fun(x0 + (dt / 2.) * k1, t + (dt / 2.), *args)\n",
    "    k3 = fun(x0 + (dt / 2.) * k2, t + (dt / 2.), *args)\n",
    "    k4 = fun(x0 + dt * k3, t + dt, *args)\n",
    "\n",
    "    x0 += (dt / 6.) * (k1 + 2 * k2 + 2 * k3 + k4)\n",
    "\n",
    "    return x0\n",
    "\n",
    "# piecewise Rossler model\n",
    "@njit\n",
    "def piecewise_Rossler(vars, t, I, alpha, beta, R, mu, gamma):\n",
    "    res = np.zeros_like(vars)\n",
    "    # 状态变量\n",
    "    x, y, z = vars\n",
    "\n",
    "    # g_x = np.zeros_like(x) if x <= 3. else mu*(x - 3.)\n",
    "    g_x = np.where(x <= 3., 0., mu*(x - 3.))\n",
    "    \n",
    "    dx_dt = gamma * (-alpha*(x - I) - z - beta*y)\n",
    "    dy_dt = gamma * (x - (0.02 - 10/R)*y)\n",
    "    dz_dt = gamma * (g_x - z)\n",
    "\n",
    "    res[0] = dx_dt\n",
    "    res[1] = dy_dt\n",
    "    res[2] = dz_dt\n",
    "\n",
    "    return res"
   ]
  },
  {
   "cell_type": "code",
   "execution_count": 29,
   "id": "3ddba7a1",
   "metadata": {},
   "outputs": [],
   "source": [
    "# 耦合函数\n",
    "@njit\n",
    "def coupling_func(vars, weight, pre_ids, post_ids):\n",
    "    currents = weight * (vars[pre_ids] - vars[post_ids])\n",
    "\n",
    "    # 节点数量\n",
    "    num_nodes = len(vars)  # 耦合后节点总数\n",
    "\n",
    "    Icoup = np.bincount(post_ids, weights=currents, minlength=num_nodes)\n",
    "\n",
    "    return Icoup"
   ]
  },
  {
   "cell_type": "code",
   "execution_count": 30,
   "id": "1d9def15",
   "metadata": {},
   "outputs": [],
   "source": [
    "@njit\n",
    "def net(N, A_adj, weight_list):\n",
    "    # ============ 设置节点参数 ============ \n",
    "    alpha = 0.05\n",
    "    beta = 0.5\n",
    "    R = 100                 # chaos(R: 55-110)\n",
    "    mu = 15\n",
    "    gamma_base = 10000  \n",
    "\n",
    "    # 状态变量初始化\n",
    "    x0 = 0.1*np.ones(N)\n",
    "    y0 = 0.2*np.ones(N)\n",
    "    z0 = 0.3*np.ones(N)\n",
    "    vars_nodes = np.vstack((x0, y0, z0))        # 状态变量矩阵\n",
    "    N_vars = 3          # 变量的数量\n",
    "\n",
    "    # ============ 突触参数 ============\n",
    "    post_ids, pre_ids = np.nonzero(A_adj)\n",
    "    degrees = A_adj.sum(axis=1)\n",
    "    dgamma = 0.2\n",
    "    gamma = gamma_base * (1 + dgamma * (degrees-1) / N)     # 用来设置频率\n",
    "\n",
    "    dt=0.0001\n",
    "    # ============ 运行部分 ============\n",
    "    t = 0\n",
    "\n",
    "    # 初始化节点\n",
    "    for _ in range(1_0000):\n",
    "        Icoup = np.zeros(N)\n",
    "        RK4(piecewise_Rossler, vars_nodes, t, dt, Icoup, alpha, beta, R, mu, gamma)\n",
    "\n",
    "    S_list = []\n",
    "    for weight in weight_list:\n",
    "\n",
    "        # 初始网络\n",
    "        for _ in range(1_0000):\n",
    "            Icoup = coupling_func(vars_nodes[0], weight, pre_ids, post_ids)\n",
    "            RK4(piecewise_Rossler, vars_nodes, t, dt, Icoup, alpha, beta, R, mu, gamma)\n",
    "\n",
    "        # mem = []\n",
    "        cal_n = 10_0000\n",
    "        S = 0. # 同步因子\n",
    "        for _ in range(cal_n):\n",
    "            Icoup = coupling_func(vars_nodes[0], weight, pre_ids, post_ids)\n",
    "            RK4(piecewise_Rossler, vars_nodes, t, dt, Icoup, alpha, beta, R, mu, gamma)\n",
    "\n",
    "            # 计算同步\n",
    "            phi_t =  np.arctan2(vars_nodes[1], vars_nodes[0]) \n",
    "            S += np.abs(np.sum(np.exp(1j * phi_t)) / N) / cal_n\n",
    "\n",
    "            t += dt\n",
    "            # mem.append(vars_nodes[0].copy())\n",
    "\n",
    "        # return mem, S\n",
    "\n",
    "        S_list.append(S)\n",
    "    return S_list"
   ]
  },
  {
   "cell_type": "code",
   "execution_count": 31,
   "id": "1237960e",
   "metadata": {},
   "outputs": [],
   "source": [
    "# 创建无标度网络\n",
    "N = 1000    # 节点数\n",
    "k = 6       # 平均度\n",
    "G_init = nx.complete_graph(k+1)\n",
    "G = nx.barabasi_albert_graph(N, int(k/2), initial_graph=G_init)\n",
    "A_adj = nx.to_numpy_array(G)\n",
    "# weight = 10e-3"
   ]
  },
  {
   "cell_type": "code",
   "execution_count": 32,
   "id": "4e46ded9",
   "metadata": {},
   "outputs": [],
   "source": [
    "weight_list1 = np.arange(3e-4, 14.3e-3, 3e-4)\n",
    "weight_list2 = np.arange(14.3e-3, 3e-4, -3e-4)\n",
    "# weight_list1 = np.linspace(0., 14.3e-3, 2)\n",
    "# weight_list2 = np.linspace(14.3e-3, 0, 2)\n",
    "weight_list = [weight_list1, weight_list2]"
   ]
  },
  {
   "cell_type": "code",
   "execution_count": 33,
   "id": "f9c95452",
   "metadata": {},
   "outputs": [],
   "source": [
    "@njit(parallel=True)\n",
    "def Parallel_net(N, A_adj, weight_list):\n",
    "    len = weight_list[0].shape[0]\n",
    "    results = np.zeros((2, len))\n",
    "    for i in prange(2):\n",
    "        result = net(N, A_adj, weight_list[i])\n",
    "        results[i] = np.asarray(result)\n",
    "        \n",
    "    return results"
   ]
  },
  {
   "cell_type": "code",
   "execution_count": 34,
   "id": "8687f010",
   "metadata": {},
   "outputs": [],
   "source": [
    "results = Parallel_net(N, A_adj, weight_list)"
   ]
  },
  {
   "cell_type": "code",
   "execution_count": 35,
   "id": "8796e1b5",
   "metadata": {},
   "outputs": [
    {
     "data": {
      "image/png": "[encoded data removed]",
      "text/plain": [
       "<Figure size 640x480 with 1 Axes>"
      ]
     },
     "metadata": {},
     "output_type": "display_data"
    }
   ],
   "source": [
    "plt.plot(weight_list1, results[0], 'o-', label='forward')\n",
    "plt.plot(weight_list2, results[1], '*-', label='backward')\n",
    "plt.legend()\n",
    "plt.show()"
   ]
  },
  {
   "cell_type": "code",
   "execution_count": 36,
   "id": "09162f73",
   "metadata": {},
   "outputs": [],
   "source": [
    "# mem, S = net(N, A_adj, weight)\n",
    "# mem = np.asarray(mem)\n",
    "# plt.plot(mem)\n",
    "# plt.xlim(0, 1_00)\n",
    "# plt.show()"
   ]
  }
 ],
 "metadata": {
  "kernelspec": {
   "display_name": "Python 3",
   "language": "python",
   "name": "python3"
  },
  "language_info": {
   "codemirror_mode": {
    "name": "ipython",
    "version": 3
   },
   "file_extension": ".py",
   "mimetype": "text/x-python",
   "name": "python",
   "nbconvert_exporter": "python",
   "pygments_lexer": "ipython3",
   "version": "3.11.9"
  }
 },
 "nbformat": 4,
 "nbformat_minor": 5
}
