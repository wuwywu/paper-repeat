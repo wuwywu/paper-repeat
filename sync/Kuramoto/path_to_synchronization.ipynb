{
 "cells": [
  {
   "cell_type": "markdown",
   "id": "3c51ba84",
   "metadata": {},
   "source": [
    "#### 在ER和SF网络中研究同步的路径\n",
    "ref : J. Gómez-Gardeñes, et al. Paths to synchronization on complex networks, Phys. Rev. Lett. 98, 34101 (2007).\n",
    "\n",
    "model: Kuramoto model\n",
    "\n",
    "network: scale-free network, ER network "
   ]
  },
  {
   "cell_type": "code",
   "execution_count": 1,
   "id": "b698e01f",
   "metadata": {},
   "outputs": [],
   "source": [
    "import numpy as np\n",
    "import matplotlib.pyplot as plt\n",
    "from numba import njit, prange\n",
    "import random\n",
    "import networkx as nx\n",
    "from scipy.sparse import coo_matrix\n",
    "import scipy.sparse as sp\n",
    "from joblib import Parallel, delayed\n",
    "from tqdm import tqdm"
   ]
  },
  {
   "cell_type": "code",
   "execution_count": 2,
   "id": "c9dce200",
   "metadata": {},
   "outputs": [],
   "source": [
    "seed = 0\n",
    "random.seed(seed)\n",
    "np.random.seed(seed)"
   ]
  },
  {
   "cell_type": "markdown",
   "id": "af462fe1",
   "metadata": {},
   "source": [
    "##### 模型算法"
   ]
  },
  {
   "cell_type": "code",
   "execution_count": 3,
   "id": "f370fc96",
   "metadata": {},
   "outputs": [],
   "source": [
    "# Kuramoto 模型\n",
    "def kuramoto(vars, t, omega, c, pre_ids, post_ids):\n",
    "    \"\"\"\n",
    "    Kuramoto 模型的微分方程。\n",
    "    args:\n",
    "        vars: 相位\n",
    "        t: 当前时间\n",
    "        omega: 自然频率\n",
    "        c: 耦合强度\n",
    "    \"\"\"\n",
    "    currents = c * np.sin(vars[pre_ids]- vars[post_ids])\n",
    "\n",
    "    num_nodes = len(vars)\n",
    "    \n",
    "    I_couple = np.bincount(post_ids, weights=currents, minlength=num_nodes)\n",
    "\n",
    "    dvars_dt = omega + I_couple\n",
    "\n",
    "    return dvars_dt\n",
    "\n",
    "def RK4(fun, x0, t, dt, *args):\n",
    "    \"\"\"\n",
    "    使用 Runge-Kutta 方法计算一个时间步后系统的状态。\n",
    "    args:\n",
    "        fun: 微分方程\n",
    "        x0: 上一个时间单位的状态变量\n",
    "        t: 运行时间\n",
    "        dt: 时间步长\n",
    "    :return:\n",
    "        x0 (numpy.ndarray): 下一个时间单位的状态变量\n",
    "    \"\"\"\n",
    "    k1 = fun(x0, t, *args)\n",
    "    k2 = fun(x0 + (dt / 2.) * k1, t + (dt / 2.), *args)\n",
    "    k3 = fun(x0 + (dt / 2.) * k2, t + (dt / 2.), *args)\n",
    "    k4 = fun(x0 + dt * k3, t + dt, *args)\n",
    "\n",
    "    x0 += (dt / 6.) * (k1 + 2 * k2 + 2 * k3 + k4)\n",
    "\n",
    "    return x0"
   ]
  },
  {
   "cell_type": "markdown",
   "id": "ddb06b1e",
   "metadata": {},
   "source": [
    "##### 统计量"
   ]
  },
  {
   "cell_type": "code",
   "execution_count": 4,
   "id": "684474d9",
   "metadata": {},
   "outputs": [],
   "source": [
    "def order_parameter(vars):\n",
    "    \"\"\"\n",
    "    计算系统的序参量。\n",
    "    args:\n",
    "        vars: 相位\n",
    "    return:\n",
    "        r (float): 序参量\n",
    "    \"\"\"\n",
    "    N = len(vars)\n",
    "    r = np.abs(np.sum(np.exp(1j * vars)) / N)\n",
    "    return r\n"
   ]
  },
  {
   "cell_type": "code",
   "execution_count": 5,
   "id": "a1c264da",
   "metadata": {},
   "outputs": [],
   "source": [
    "# 运行\n",
    "def net(c, n, A):\n",
    "    post_ids = A.row\n",
    "    pre_ids = A.col\n",
    "\n",
    "    # 自然频率\n",
    "    # omega = np.random.uniform(-np.pi, np.pi, n)/10\n",
    "    omega = np.random.uniform(-.45, .45, n)\n",
    "\n",
    "    # 初始相位\n",
    "    # vars = np.random.uniform(-np.pi, np.pi, n)\n",
    "    vars = np.zeros(n)  # 初始相位为0\n",
    "\n",
    "    N_links = A.sum()\n",
    "\n",
    "    dt = 0.05\n",
    "\n",
    "    t = 0.\n",
    "    \n",
    "    # 初始化\n",
    "    # for i in range(1000_00):\n",
    "    #     RK4(kuramoto, vars, t, dt, omega, c, pre_ids, post_ids)\n",
    "    #     t += dt\n",
    "\n",
    "    r = 0.\n",
    "    complex_exp = 0.\n",
    "    cal_n = 1000_00\n",
    "    for i in range(cal_n):\n",
    "        RK4(kuramoto, vars, t, dt, omega, c, pre_ids, post_ids)\n",
    "        t += dt\n",
    "\n",
    "        r += order_parameter(vars)/cal_n\n",
    "        \n",
    "        vars_diff = vars[post_ids] - vars[pre_ids]\n",
    "        \n",
    "        complex_exp += np.exp(1j * vars_diff) / cal_n\n",
    "\n",
    "    r_link = np.abs(complex_exp).sum() / N_links\n",
    "\n",
    "    return r, r_link"
   ]
  },
  {
   "cell_type": "code",
   "execution_count": 6,
   "id": "f1679de4",
   "metadata": {},
   "outputs": [],
   "source": [
    "n = 1000  # 节点数\n",
    "\n",
    "topology=\"ER\"\n",
    "# 拓扑结构\n",
    "if topology == \"ER\":\n",
    "    m = 6 \n",
    "    G = nx.gnm_random_graph(n, int(m*n/2))\n",
    "\n",
    "elif topology == \"SF\":\n",
    "    k = 6\n",
    "    G_init = nx.complete_graph(k+1)\n",
    "    G = nx.barabasi_albert_graph(n, int(k/2), initial_graph=G_init)\n",
    "\n",
    "A = nx.adjacency_matrix(G).tocoo() # 邻接矩阵(稀疏)"
   ]
  },
  {
   "cell_type": "code",
   "execution_count": 7,
   "id": "20f08144",
   "metadata": {},
   "outputs": [],
   "source": [
    "# c_= 0.1\n",
    "# net(c_, n, A)"
   ]
  },
  {
   "cell_type": "code",
   "execution_count": 8,
   "id": "d93c6660",
   "metadata": {},
   "outputs": [],
   "source": [
    "c_list = np.linspace(0.001, 0.2, 20)  # 耦合强度列表"
   ]
  },
  {
   "cell_type": "code",
   "execution_count": 9,
   "id": "dd3e2a11",
   "metadata": {},
   "outputs": [
    {
     "name": "stderr",
     "output_type": "stream",
     "text": [
      "100%|██████████| 20/20 [00:00<00:00, 251.90it/s]\n"
     ]
    }
   ],
   "source": [
    "results1 = Parallel(n_jobs=20)(delayed(net)(c, n, A) for c in tqdm(c_list))"
   ]
  },
  {
   "cell_type": "code",
   "execution_count": 10,
   "id": "d91c00cc",
   "metadata": {},
   "outputs": [],
   "source": [
    "k = 6\n",
    "G_init = nx.complete_graph(k+1)\n",
    "G = nx.barabasi_albert_graph(n, int(k/2), initial_graph=G_init)\n",
    "\n",
    "A = nx.adjacency_matrix(G).tocoo() # 邻接矩阵(稀疏)"
   ]
  },
  {
   "cell_type": "code",
   "execution_count": 11,
   "id": "2c60aea7",
   "metadata": {},
   "outputs": [
    {
     "name": "stderr",
     "output_type": "stream",
     "text": [
      "100%|██████████| 20/20 [00:00<00:00, 19840.61it/s]\n"
     ]
    }
   ],
   "source": [
    "results2 = Parallel(n_jobs=20)(delayed(net)(c, n, A) for c in tqdm(c_list))"
   ]
  },
  {
   "cell_type": "code",
   "execution_count": 12,
   "id": "ae76646f",
   "metadata": {},
   "outputs": [],
   "source": [
    "results11 = np.asarray(results1).T\n",
    "results22 = np.asarray(results2).T"
   ]
  },
  {
   "cell_type": "code",
   "execution_count": 13,
   "id": "7a5a6be2",
   "metadata": {},
   "outputs": [
    {
     "data": {
      "image/png": "[encoded data removed]",
      "text/plain": [
       "<Figure size 640x480 with 1 Axes>"
      ]
     },
     "metadata": {},
     "output_type": "display_data"
    }
   ],
   "source": [
    "plt.plot(c_list, results11[0], linestyle='--')\n",
    "plt.plot(c_list, results22[0])\n",
    "plt.show()"
   ]
  },
  {
   "cell_type": "code",
   "execution_count": 14,
   "id": "563b633f",
   "metadata": {},
   "outputs": [
    {
     "data": {
      "image/png": "[encoded data removed]",
      "text/plain": [
       "<Figure size 640x480 with 1 Axes>"
      ]
     },
     "metadata": {},
     "output_type": "display_data"
    }
   ],
   "source": [
    "plt.plot(c_list, results11[1], linestyle='--')\n",
    "plt.plot(c_list, results22[1])\n",
    "plt.show()"
   ]
  }
 ],
 "metadata": {
  "kernelspec": {
   "display_name": "Python 3",
   "language": "python",
   "name": "python3"
  },
  "language_info": {
   "codemirror_mode": {
    "name": "ipython",
    "version": 3
   },
   "file_extension": ".py",
   "mimetype": "text/x-python",
   "name": "python",
   "nbconvert_exporter": "python",
   "pygments_lexer": "ipython3",
   "version": "3.11.9"
  }
 },
 "nbformat": 4,
 "nbformat_minor": 5
}
