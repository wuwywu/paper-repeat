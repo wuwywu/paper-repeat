{
 "cells": [
  {
   "cell_type": "markdown",
   "metadata": {},
   "source": [
    "#### 化学突触连接的 ML 模型，MSF研究\n",
    "\n",
    "ref: W. Nicola, Rapid changes in synchronizability in conductance-based neuronal networks with conductance-based coupling, Chaos 34, 023123 (2024).\n",
    "\n",
    "model: Morris–Lecar neuron model\n"
   ]
  },
  {
   "cell_type": "code",
   "execution_count": 1,
   "metadata": {},
   "outputs": [],
   "source": [
    "import copy\n",
    "import numpy as np\n",
    "from abc import ABC, abstractmethod\n",
    "import matplotlib.pyplot as plt\n",
    "from matplotlib.colors import LinearSegmentedColormap\n",
    "from numba import njit, prange\n",
    "import pandas as pd\n",
    "import os\n",
    "os.environ[\"OMP_NUM_THREADS\"] = \"4\"  # 将4替换为你希望使用的线程数\n",
    "os.environ[\"OPENBLAS_NUM_THREADS\"] = \"4\""
   ]
  },
  {
   "cell_type": "markdown",
   "metadata": {},
   "source": [
    "### 不对称情况msf的函数"
   ]
  },
  {
   "cell_type": "code",
   "execution_count": 2,
   "metadata": {},
   "outputs": [],
   "source": [
    "@njit\n",
    "def rk4_step(x, t, dt, f, *args):\n",
    "    k1 = f(x, t, *args)\n",
    "    k2 = f(x + (dt / 2.) * k1, t + (dt / 2.), *args)\n",
    "    k3 = f(x + (dt / 2.) * k2, t + (dt / 2.), *args)\n",
    "    k4 = f(x + dt * k3, t + dt, *args)\n",
    "    return x + (dt / 6.) * (k1 + 2 * k2 + 2 * k3 + k4)\n",
    "\n",
    "\n",
    "@njit\n",
    "def msf_mLCE_jit_complex(x0, f, jac, n_forward, n_compute, dt, gamma, *args):\n",
    "    \"\"\"\n",
    "    计算gamma为复数情况的msf\n",
    "    Parameters:\n",
    "        x0 (numpy.ndarray)：初始条件。\n",
    "        f（function）: ẋ = f(x, t) 或 x_(n 1) = f(x_n) 的函数 f。\n",
    "        jac（function）: f 相对于 x 的雅可比行列式。\n",
    "        n_forward (int): Number of steps before starting the mLCE computation.\n",
    "        n_compute (int): Number of steps to compute the mLCE, can be adjusted using keep_evolution.\n",
    "        dt（float）: 两个时间步之间的时间间隔。\n",
    "        *args :  f 和 jac 需要修改的量\n",
    "    \"\"\"\n",
    "    t = 0\n",
    "    x = x0\n",
    "    dim = len(x0)\n",
    "    # 初始化\n",
    "    for _ in range(n_forward):\n",
    "        x = rk4_step(x, t, dt, f, *args)\n",
    "        t += dt\n",
    "\n",
    "    # Compute the mLCE\n",
    "    mLCE = 0.\n",
    "    W = np.random.rand(dim) + 1j * np.random.rand(dim) # 随机生成一个与系统状态向量维度相同的向量，这里是复数形式\n",
    "    W = W / np.linalg.norm(W)\n",
    "\n",
    "    for _ in range(n_compute):\n",
    "        # w = system.next_LTM(w)\n",
    "        jacobian = jac(x, t, gamma, *args)\n",
    "        jacobian = jacobian.astype(np.complex128) # 将得到的雅可比矩阵变成复数形式\n",
    "\n",
    "        k1 = jacobian @ W\n",
    "        k2 = jacobian @ (W + (dt / 2.) * k1)\n",
    "        k3 = jacobian @ (W + (dt / 2.) * k2)\n",
    "        k4 = jacobian @ (W + dt * k3)\n",
    "        W = W + (dt / 6.) * (k1 + 2 * k2 + 2 * k3 + k4)\n",
    "\n",
    "        # system.forward(1, False)\n",
    "        x = rk4_step(x, t, dt, f, *args)\n",
    "        t += dt\n",
    "\n",
    "        mLCE += np.log(np.linalg.norm(W))\n",
    "        W = W / np.linalg.norm(W)\n",
    "\n",
    "    mLCE = mLCE / (n_compute * dt)\n",
    "\n",
    "    return mLCE\n"
   ]
  },
  {
   "cell_type": "markdown",
   "metadata": {},
   "source": [
    "## ML模型"
   ]
  },
  {
   "cell_type": "markdown",
   "metadata": {},
   "source": [
    "### 需要改变的参数"
   ]
  },
  {
   "cell_type": "code",
   "execution_count": 3,
   "metadata": {},
   "outputs": [],
   "source": [
    "# 外加变量和参数变量\n",
    "I = 50 # classI 50, classII 115 pA\n",
    "phi = 0.067 # classI 0.067, classII 0.04 mV\n",
    "V3 = 12 # classI 12, classII 2 mV\n",
    "V4 = 17.4 # classI 17.4, classII 30\n",
    "\n",
    "g = 2.1 # 这里后面要改成可以随输入变化\n",
    "E = 30 # 同上"
   ]
  },
  {
   "cell_type": "markdown",
   "metadata": {},
   "source": [
    "### 同步解"
   ]
  },
  {
   "cell_type": "code",
   "execution_count": 4,
   "metadata": {},
   "outputs": [],
   "source": [
    "@njit\n",
    "def f(x, t): # g, E, --需要修改的变量\n",
    "    res = np.zeros_like(x)\n",
    "\n",
    "    # 参数常量\n",
    "    C = 20 # pF\n",
    "    g_L = 2 # nS\n",
    "    g_K = 8 # nS \n",
    "    g_Ca = 4 # nS\n",
    "    E_L = -60 # mV\n",
    "    E_K = -84\n",
    "    E_Ca = 120\n",
    "    V1 = -1.2 # mV\n",
    "    V2 = 18\n",
    "    a_r = 1.1 # ms-1\n",
    "    a_d = 0.19 # ms-1\n",
    "    K_p = 5 # mV\n",
    "    V_T = 2 # mV\n",
    "    # 输出函数变量\n",
    "    # 根据公式计算 m_infty 和 n_infty\n",
    "    m_infty = 0.5 * (1 + np.tanh((x[0] - V1) / V2))\n",
    "    n_infty = 0.5 * (1 + np.tanh((x[0] - V3) / V4))\n",
    "    # 根据公式计算 tau_n\n",
    "    tau_n = 1 / np.cosh((x[0] - V3) / (2 * V4))\n",
    "    # 根据公式计算T\n",
    "    T = 1 / (1 + np.exp(-(x[0] - V_T)/K_p))\n",
    "    # 更新 res\n",
    "    res[0] = (I - g_L * (x[0] - E_L) - g_K * x[1] * (x[0] - E_K) - g_Ca * m_infty * (x[0] - E_Ca) - g * x[2] * (x[0] - E)) / C # V\n",
    "    res[1] = phi * ((n_infty - x[1]) / tau_n) # n\n",
    "    res[2] = a_r * T * (1 - x[2]) - x[2] * a_d # r\n",
    "    return res"
   ]
  },
  {
   "cell_type": "markdown",
   "metadata": {},
   "source": [
    "### 雅可比矩阵"
   ]
  },
  {
   "cell_type": "code",
   "execution_count": 5,
   "metadata": {},
   "outputs": [],
   "source": [
    "@njit\n",
    "def jac(x, t, gamma):\n",
    "    res = np.zeros((x.shape[0], x.shape[0]), dtype=np.complex128) # 之前出现float报错是因为res变量默认是float型，现在规定为复数**\n",
    "\n",
    "    # 参数常量\n",
    "    C = 20 # pF\n",
    "    g_L = 2 # nS\n",
    "    g_K = 8 # nS \n",
    "    g_Ca = 4 # nS\n",
    "    E_L = -60 # mV\n",
    "    E_K = -84\n",
    "    E_Ca = 120\n",
    "    V1 = -1.2 # mV\n",
    "    V2 = 18\n",
    "    # E = -60\n",
    "    a_r = 1.1 # ms-1\n",
    "    a_d = 0.19 # ms-1\n",
    "    V_T = 2 # mV\n",
    "    K_p = 5 # mV\n",
    "\n",
    "    # 根据公式计算 m_infty 和 n_infty \n",
    "    m_infty = 0.5 * (1 + np.tanh((x[0] - V1) / V2))\n",
    "    n_infty = 0.5 * (1 + np.tanh((x[0] - V3) / V4))\n",
    "    # 根据公式计算 tau_n\n",
    "    tau_n = 1 / np.cosh((x[0] - V3) / (2 * V4))\n",
    "    # 根据公式计算T\n",
    "    T = 1 / (1 + np.exp( - (x[0] - V_T) / K_p))  \n",
    "\n",
    "    d_minf_dV = 0.5 * (1 / V2) * (1 - (np.tanh((x[0] - V1) / V2))**2) # m_infty对V的导\n",
    "    d_ninf_dV = 0.5 * (1 / V4) * (1 - (np.tanh((x[0] - V3) / V4))**2) # n_infty对V的导\n",
    "    d_tau_n_dV = -1 / (2 * V4) * np.sinh((x[0] - V3) / (2 * V4)) /  (np.cosh((x[0] - V3) / (2 * V4)))**2\n",
    "    d_T_dV = (1 / K_p) * np.exp(-(x[0] - V_T) / K_p) / ((1 + np.exp(-(x[0] - V_T) / K_p))**2)\n",
    "\n",
    "    res[0, 0] = (-g_L - g_K*x[1] - g_Ca*m_infty - g_Ca*(x[0]-E_Ca)*d_minf_dV - g * x[2]) / C\n",
    "    res[0, 1] = (-g_K * (x[0] - E_K)) / C\n",
    "    res[0, 2] = (-g * gamma * (x[0] - E)) / C #不要忘记乘上gamma *这里gamma是耦合L矩阵的特征值，gamma外的其他部分,是节点变量的内连矩阵在s处的jac\n",
    "    res[1, 0] = phi * (d_ninf_dV / tau_n - (n_infty - x[1]) * d_tau_n_dV / tau_n**2)\n",
    "    res[1, 1] = -phi / tau_n\n",
    "    res[1, 2] = 0\n",
    "    res[2, 0] = a_r * d_T_dV * (1 - x[2])\n",
    "    res[2, 1] = 0\n",
    "    res[2, 2] = -a_r * T - a_d\n",
    "\n",
    "    return res    "
   ]
  },
  {
   "cell_type": "markdown",
   "metadata": {},
   "source": [
    "### msf计算"
   ]
  },
  {
   "cell_type": "code",
   "execution_count": 6,
   "metadata": {},
   "outputs": [],
   "source": [
    "x0 = np.array([-60, 0.5, 0.5])\n",
    "t0 = 0.\n",
    "dt = 1e-2\n",
    "T_init = int(5e4)\n",
    "T_cal = int(1e5)"
   ]
  },
  {
   "cell_type": "code",
   "execution_count": 7,
   "metadata": {},
   "outputs": [],
   "source": [
    "a_values = np.linspace(-1, 1, 50)\n",
    "b_values = np.linspace(-1, 1, 50)\n",
    "\n",
    "@njit(parallel=True)\n",
    "def parallel_msf_mLCE(a_values, b_values, x0, f, jac, T_init, T_cal, dt, *args):\n",
    "    n1 = len(a_values)\n",
    "    n2 = len(b_values)\n",
    "    mlce_matrix = np.zeros((n1, n2))\n",
    "    for i in prange(n2):\n",
    "        for j in prange(n1):\n",
    "            gamma = a_values[i] + b_values[j] * 1j\n",
    "            mlce_matrix[i, j] = msf_mLCE_jit_complex(x0, f, jac, T_init, T_cal, dt, gamma)   \n",
    "\n",
    "    return mlce_matrix"
   ]
  },
  {
   "cell_type": "code",
   "execution_count": 8,
   "metadata": {},
   "outputs": [],
   "source": [
    "mlce_matrix = parallel_msf_mLCE(a_values, b_values, x0, f, jac, T_init, T_cal, dt)"
   ]
  },
  {
   "cell_type": "code",
   "execution_count": 9,
   "metadata": {},
   "outputs": [
    {
     "data": {
      "image/png": "[encoded data removed]",
      "text/plain": [
       "<Figure size 1000x800 with 2 Axes>"
      ]
     },
     "metadata": {},
     "output_type": "display_data"
    }
   ],
   "source": [
    "colors = [(0, 0, 0), (0.9, 0.19, 0), (1, 0.75, 0), (1, 1, 0), (1, 1, 1)]\n",
    "cmap_custom = LinearSegmentedColormap.from_list('custom_cmap', colors)\n",
    "\n",
    "plt.figure(figsize=(10, 8))\n",
    "plt.imshow(mlce_matrix, extent=[-1, 1, -1, 1], origin='lower', aspect='auto', cmap=cmap_custom)\n",
    "plt.colorbar(label='mLCE')\n",
    "plt.ylabel('Real')\n",
    "plt.xlabel('Imag')\n",
    "# plt.title('mLCE')\n",
    "plt.title(f'mLCE - E = {E}, g = {g}')\n",
    "plt.show()"
   ]
  }
 ],
 "metadata": {
  "kernelspec": {
   "display_name": "Python 3",
   "language": "python",
   "name": "python3"
  },
  "language_info": {
   "codemirror_mode": {
    "name": "ipython",
    "version": 3
   },
   "file_extension": ".py",
   "mimetype": "text/x-python",
   "name": "python",
   "nbconvert_exporter": "python",
   "pygments_lexer": "ipython3",
   "version": "3.11.4"
  }
 },
 "nbformat": 4,
 "nbformat_minor": 2
}
